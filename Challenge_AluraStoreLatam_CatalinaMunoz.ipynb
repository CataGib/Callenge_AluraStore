{
  "nbformat": 4,
  "nbformat_minor": 0,
  "metadata": {
    "colab": {
      "provenance": []
    },
    "kernelspec": {
      "name": "python3",
      "display_name": "Python 3"
    },
    "language_info": {
      "name": "python"
    }
  },
  "cells": [
    {
      "cell_type": "markdown",
      "source": [
        "### Importación de datos\n",
        "\n"
      ],
      "metadata": {
        "id": "RhEdWd9YUR6H"
      }
    },
    {
      "cell_type": "code",
      "execution_count": 1,
      "metadata": {
        "colab": {
          "base_uri": "https://localhost:8080/",
          "height": 206
        },
        "id": "T3EvaeQ_INIL",
        "outputId": "1d349af2-8e19-455b-aa7c-39b3ce31167f"
      },
      "outputs": [
        {
          "output_type": "execute_result",
          "data": {
            "text/plain": [
              "            Producto Categoría del Producto    Precio  Costo de envío  \\\n",
              "0  Asistente virtual           Electrónicos  164300.0          6900.0   \n",
              "1    Mesa de comedor                Muebles  192300.0          8400.0   \n",
              "2      Juego de mesa               Juguetes  209600.0         15900.0   \n",
              "3         Microondas      Electrodomésticos  757500.0         41000.0   \n",
              "4   Silla de oficina                Muebles  335200.0         20200.0   \n",
              "\n",
              "  Fecha de Compra         Vendedor Lugar de Compra  Calificación  \\\n",
              "0      16/01/2021      Pedro Gomez          Bogotá             4   \n",
              "1      18/05/2022  Beatriz Morales        Medellín             1   \n",
              "2      15/03/2021   Juan Fernandez       Cartagena             1   \n",
              "3      03/05/2022   Juan Fernandez            Cali             4   \n",
              "4      07/11/2020    Maria Alfonso        Medellín             5   \n",
              "\n",
              "       Método de pago  Cantidad de cuotas       lat       lon  \n",
              "0  Tarjeta de crédito                   8   4.60971 -74.08175  \n",
              "1  Tarjeta de crédito                   4   6.25184 -75.56359  \n",
              "2  Tarjeta de crédito                   1  10.39972 -75.51444  \n",
              "3               Nequi                   1   3.43722 -76.52250  \n",
              "4               Nequi                   1   6.25184 -75.56359  "
            ],
            "text/html": [
              "\n",
              "  <div id=\"df-e93a8428-95b5-49d8-9968-a0ca85afff11\" class=\"colab-df-container\">\n",
              "    <div>\n",
              "<style scoped>\n",
              "    .dataframe tbody tr th:only-of-type {\n",
              "        vertical-align: middle;\n",
              "    }\n",
              "\n",
              "    .dataframe tbody tr th {\n",
              "        vertical-align: top;\n",
              "    }\n",
              "\n",
              "    .dataframe thead th {\n",
              "        text-align: right;\n",
              "    }\n",
              "</style>\n",
              "<table border=\"1\" class=\"dataframe\">\n",
              "  <thead>\n",
              "    <tr style=\"text-align: right;\">\n",
              "      <th></th>\n",
              "      <th>Producto</th>\n",
              "      <th>Categoría del Producto</th>\n",
              "      <th>Precio</th>\n",
              "      <th>Costo de envío</th>\n",
              "      <th>Fecha de Compra</th>\n",
              "      <th>Vendedor</th>\n",
              "      <th>Lugar de Compra</th>\n",
              "      <th>Calificación</th>\n",
              "      <th>Método de pago</th>\n",
              "      <th>Cantidad de cuotas</th>\n",
              "      <th>lat</th>\n",
              "      <th>lon</th>\n",
              "    </tr>\n",
              "  </thead>\n",
              "  <tbody>\n",
              "    <tr>\n",
              "      <th>0</th>\n",
              "      <td>Asistente virtual</td>\n",
              "      <td>Electrónicos</td>\n",
              "      <td>164300.0</td>\n",
              "      <td>6900.0</td>\n",
              "      <td>16/01/2021</td>\n",
              "      <td>Pedro Gomez</td>\n",
              "      <td>Bogotá</td>\n",
              "      <td>4</td>\n",
              "      <td>Tarjeta de crédito</td>\n",
              "      <td>8</td>\n",
              "      <td>4.60971</td>\n",
              "      <td>-74.08175</td>\n",
              "    </tr>\n",
              "    <tr>\n",
              "      <th>1</th>\n",
              "      <td>Mesa de comedor</td>\n",
              "      <td>Muebles</td>\n",
              "      <td>192300.0</td>\n",
              "      <td>8400.0</td>\n",
              "      <td>18/05/2022</td>\n",
              "      <td>Beatriz Morales</td>\n",
              "      <td>Medellín</td>\n",
              "      <td>1</td>\n",
              "      <td>Tarjeta de crédito</td>\n",
              "      <td>4</td>\n",
              "      <td>6.25184</td>\n",
              "      <td>-75.56359</td>\n",
              "    </tr>\n",
              "    <tr>\n",
              "      <th>2</th>\n",
              "      <td>Juego de mesa</td>\n",
              "      <td>Juguetes</td>\n",
              "      <td>209600.0</td>\n",
              "      <td>15900.0</td>\n",
              "      <td>15/03/2021</td>\n",
              "      <td>Juan Fernandez</td>\n",
              "      <td>Cartagena</td>\n",
              "      <td>1</td>\n",
              "      <td>Tarjeta de crédito</td>\n",
              "      <td>1</td>\n",
              "      <td>10.39972</td>\n",
              "      <td>-75.51444</td>\n",
              "    </tr>\n",
              "    <tr>\n",
              "      <th>3</th>\n",
              "      <td>Microondas</td>\n",
              "      <td>Electrodomésticos</td>\n",
              "      <td>757500.0</td>\n",
              "      <td>41000.0</td>\n",
              "      <td>03/05/2022</td>\n",
              "      <td>Juan Fernandez</td>\n",
              "      <td>Cali</td>\n",
              "      <td>4</td>\n",
              "      <td>Nequi</td>\n",
              "      <td>1</td>\n",
              "      <td>3.43722</td>\n",
              "      <td>-76.52250</td>\n",
              "    </tr>\n",
              "    <tr>\n",
              "      <th>4</th>\n",
              "      <td>Silla de oficina</td>\n",
              "      <td>Muebles</td>\n",
              "      <td>335200.0</td>\n",
              "      <td>20200.0</td>\n",
              "      <td>07/11/2020</td>\n",
              "      <td>Maria Alfonso</td>\n",
              "      <td>Medellín</td>\n",
              "      <td>5</td>\n",
              "      <td>Nequi</td>\n",
              "      <td>1</td>\n",
              "      <td>6.25184</td>\n",
              "      <td>-75.56359</td>\n",
              "    </tr>\n",
              "  </tbody>\n",
              "</table>\n",
              "</div>\n",
              "    <div class=\"colab-df-buttons\">\n",
              "\n",
              "  <div class=\"colab-df-container\">\n",
              "    <button class=\"colab-df-convert\" onclick=\"convertToInteractive('df-e93a8428-95b5-49d8-9968-a0ca85afff11')\"\n",
              "            title=\"Convert this dataframe to an interactive table.\"\n",
              "            style=\"display:none;\">\n",
              "\n",
              "  <svg xmlns=\"http://www.w3.org/2000/svg\" height=\"24px\" viewBox=\"0 -960 960 960\">\n",
              "    <path d=\"M120-120v-720h720v720H120Zm60-500h600v-160H180v160Zm220 220h160v-160H400v160Zm0 220h160v-160H400v160ZM180-400h160v-160H180v160Zm440 0h160v-160H620v160ZM180-180h160v-160H180v160Zm440 0h160v-160H620v160Z\"/>\n",
              "  </svg>\n",
              "    </button>\n",
              "\n",
              "  <style>\n",
              "    .colab-df-container {\n",
              "      display:flex;\n",
              "      gap: 12px;\n",
              "    }\n",
              "\n",
              "    .colab-df-convert {\n",
              "      background-color: #E8F0FE;\n",
              "      border: none;\n",
              "      border-radius: 50%;\n",
              "      cursor: pointer;\n",
              "      display: none;\n",
              "      fill: #1967D2;\n",
              "      height: 32px;\n",
              "      padding: 0 0 0 0;\n",
              "      width: 32px;\n",
              "    }\n",
              "\n",
              "    .colab-df-convert:hover {\n",
              "      background-color: #E2EBFA;\n",
              "      box-shadow: 0px 1px 2px rgba(60, 64, 67, 0.3), 0px 1px 3px 1px rgba(60, 64, 67, 0.15);\n",
              "      fill: #174EA6;\n",
              "    }\n",
              "\n",
              "    .colab-df-buttons div {\n",
              "      margin-bottom: 4px;\n",
              "    }\n",
              "\n",
              "    [theme=dark] .colab-df-convert {\n",
              "      background-color: #3B4455;\n",
              "      fill: #D2E3FC;\n",
              "    }\n",
              "\n",
              "    [theme=dark] .colab-df-convert:hover {\n",
              "      background-color: #434B5C;\n",
              "      box-shadow: 0px 1px 3px 1px rgba(0, 0, 0, 0.15);\n",
              "      filter: drop-shadow(0px 1px 2px rgba(0, 0, 0, 0.3));\n",
              "      fill: #FFFFFF;\n",
              "    }\n",
              "  </style>\n",
              "\n",
              "    <script>\n",
              "      const buttonEl =\n",
              "        document.querySelector('#df-e93a8428-95b5-49d8-9968-a0ca85afff11 button.colab-df-convert');\n",
              "      buttonEl.style.display =\n",
              "        google.colab.kernel.accessAllowed ? 'block' : 'none';\n",
              "\n",
              "      async function convertToInteractive(key) {\n",
              "        const element = document.querySelector('#df-e93a8428-95b5-49d8-9968-a0ca85afff11');\n",
              "        const dataTable =\n",
              "          await google.colab.kernel.invokeFunction('convertToInteractive',\n",
              "                                                    [key], {});\n",
              "        if (!dataTable) return;\n",
              "\n",
              "        const docLinkHtml = 'Like what you see? Visit the ' +\n",
              "          '<a target=\"_blank\" href=https://colab.research.google.com/notebooks/data_table.ipynb>data table notebook</a>'\n",
              "          + ' to learn more about interactive tables.';\n",
              "        element.innerHTML = '';\n",
              "        dataTable['output_type'] = 'display_data';\n",
              "        await google.colab.output.renderOutput(dataTable, element);\n",
              "        const docLink = document.createElement('div');\n",
              "        docLink.innerHTML = docLinkHtml;\n",
              "        element.appendChild(docLink);\n",
              "      }\n",
              "    </script>\n",
              "  </div>\n",
              "\n",
              "\n",
              "<div id=\"df-22595994-ab57-4e74-bd2d-8612f57115dc\">\n",
              "  <button class=\"colab-df-quickchart\" onclick=\"quickchart('df-22595994-ab57-4e74-bd2d-8612f57115dc')\"\n",
              "            title=\"Suggest charts\"\n",
              "            style=\"display:none;\">\n",
              "\n",
              "<svg xmlns=\"http://www.w3.org/2000/svg\" height=\"24px\"viewBox=\"0 0 24 24\"\n",
              "     width=\"24px\">\n",
              "    <g>\n",
              "        <path d=\"M19 3H5c-1.1 0-2 .9-2 2v14c0 1.1.9 2 2 2h14c1.1 0 2-.9 2-2V5c0-1.1-.9-2-2-2zM9 17H7v-7h2v7zm4 0h-2V7h2v10zm4 0h-2v-4h2v4z\"/>\n",
              "    </g>\n",
              "</svg>\n",
              "  </button>\n",
              "\n",
              "<style>\n",
              "  .colab-df-quickchart {\n",
              "      --bg-color: #E8F0FE;\n",
              "      --fill-color: #1967D2;\n",
              "      --hover-bg-color: #E2EBFA;\n",
              "      --hover-fill-color: #174EA6;\n",
              "      --disabled-fill-color: #AAA;\n",
              "      --disabled-bg-color: #DDD;\n",
              "  }\n",
              "\n",
              "  [theme=dark] .colab-df-quickchart {\n",
              "      --bg-color: #3B4455;\n",
              "      --fill-color: #D2E3FC;\n",
              "      --hover-bg-color: #434B5C;\n",
              "      --hover-fill-color: #FFFFFF;\n",
              "      --disabled-bg-color: #3B4455;\n",
              "      --disabled-fill-color: #666;\n",
              "  }\n",
              "\n",
              "  .colab-df-quickchart {\n",
              "    background-color: var(--bg-color);\n",
              "    border: none;\n",
              "    border-radius: 50%;\n",
              "    cursor: pointer;\n",
              "    display: none;\n",
              "    fill: var(--fill-color);\n",
              "    height: 32px;\n",
              "    padding: 0;\n",
              "    width: 32px;\n",
              "  }\n",
              "\n",
              "  .colab-df-quickchart:hover {\n",
              "    background-color: var(--hover-bg-color);\n",
              "    box-shadow: 0 1px 2px rgba(60, 64, 67, 0.3), 0 1px 3px 1px rgba(60, 64, 67, 0.15);\n",
              "    fill: var(--button-hover-fill-color);\n",
              "  }\n",
              "\n",
              "  .colab-df-quickchart-complete:disabled,\n",
              "  .colab-df-quickchart-complete:disabled:hover {\n",
              "    background-color: var(--disabled-bg-color);\n",
              "    fill: var(--disabled-fill-color);\n",
              "    box-shadow: none;\n",
              "  }\n",
              "\n",
              "  .colab-df-spinner {\n",
              "    border: 2px solid var(--fill-color);\n",
              "    border-color: transparent;\n",
              "    border-bottom-color: var(--fill-color);\n",
              "    animation:\n",
              "      spin 1s steps(1) infinite;\n",
              "  }\n",
              "\n",
              "  @keyframes spin {\n",
              "    0% {\n",
              "      border-color: transparent;\n",
              "      border-bottom-color: var(--fill-color);\n",
              "      border-left-color: var(--fill-color);\n",
              "    }\n",
              "    20% {\n",
              "      border-color: transparent;\n",
              "      border-left-color: var(--fill-color);\n",
              "      border-top-color: var(--fill-color);\n",
              "    }\n",
              "    30% {\n",
              "      border-color: transparent;\n",
              "      border-left-color: var(--fill-color);\n",
              "      border-top-color: var(--fill-color);\n",
              "      border-right-color: var(--fill-color);\n",
              "    }\n",
              "    40% {\n",
              "      border-color: transparent;\n",
              "      border-right-color: var(--fill-color);\n",
              "      border-top-color: var(--fill-color);\n",
              "    }\n",
              "    60% {\n",
              "      border-color: transparent;\n",
              "      border-right-color: var(--fill-color);\n",
              "    }\n",
              "    80% {\n",
              "      border-color: transparent;\n",
              "      border-right-color: var(--fill-color);\n",
              "      border-bottom-color: var(--fill-color);\n",
              "    }\n",
              "    90% {\n",
              "      border-color: transparent;\n",
              "      border-bottom-color: var(--fill-color);\n",
              "    }\n",
              "  }\n",
              "</style>\n",
              "\n",
              "  <script>\n",
              "    async function quickchart(key) {\n",
              "      const quickchartButtonEl =\n",
              "        document.querySelector('#' + key + ' button');\n",
              "      quickchartButtonEl.disabled = true;  // To prevent multiple clicks.\n",
              "      quickchartButtonEl.classList.add('colab-df-spinner');\n",
              "      try {\n",
              "        const charts = await google.colab.kernel.invokeFunction(\n",
              "            'suggestCharts', [key], {});\n",
              "      } catch (error) {\n",
              "        console.error('Error during call to suggestCharts:', error);\n",
              "      }\n",
              "      quickchartButtonEl.classList.remove('colab-df-spinner');\n",
              "      quickchartButtonEl.classList.add('colab-df-quickchart-complete');\n",
              "    }\n",
              "    (() => {\n",
              "      let quickchartButtonEl =\n",
              "        document.querySelector('#df-22595994-ab57-4e74-bd2d-8612f57115dc button');\n",
              "      quickchartButtonEl.style.display =\n",
              "        google.colab.kernel.accessAllowed ? 'block' : 'none';\n",
              "    })();\n",
              "  </script>\n",
              "</div>\n",
              "\n",
              "    </div>\n",
              "  </div>\n"
            ],
            "application/vnd.google.colaboratory.intrinsic+json": {
              "type": "dataframe",
              "variable_name": "tienda",
              "summary": "{\n  \"name\": \"tienda\",\n  \"rows\": 2359,\n  \"fields\": [\n    {\n      \"column\": \"Producto\",\n      \"properties\": {\n        \"dtype\": \"category\",\n        \"num_unique_values\": 51,\n        \"samples\": [\n          \"Guitarra ac\\u00fastica\",\n          \"Bal\\u00f3n de baloncesto\",\n          \"Smartwatch\"\n        ],\n        \"semantic_type\": \"\",\n        \"description\": \"\"\n      }\n    },\n    {\n      \"column\": \"Categor\\u00eda del Producto\",\n      \"properties\": {\n        \"dtype\": \"category\",\n        \"num_unique_values\": 8,\n        \"samples\": [\n          \"Muebles\",\n          \"Deportes y diversi\\u00f3n\",\n          \"Electr\\u00f3nicos\"\n        ],\n        \"semantic_type\": \"\",\n        \"description\": \"\"\n      }\n    },\n    {\n      \"column\": \"Precio\",\n      \"properties\": {\n        \"dtype\": \"number\",\n        \"std\": 614686.7653873172,\n        \"min\": 7600.0,\n        \"max\": 2977000.0,\n        \"num_unique_values\": 1937,\n        \"samples\": [\n          2499400.0,\n          14800.0,\n          80500.0\n        ],\n        \"semantic_type\": \"\",\n        \"description\": \"\"\n      }\n    },\n    {\n      \"column\": \"Costo de env\\u00edo\",\n      \"properties\": {\n        \"dtype\": \"number\",\n        \"std\": 32860.0017825605,\n        \"min\": 0.0,\n        \"max\": 160800.0,\n        \"num_unique_values\": 753,\n        \"samples\": [\n          117800.0,\n          54700.0,\n          45600.0\n        ],\n        \"semantic_type\": \"\",\n        \"description\": \"\"\n      }\n    },\n    {\n      \"column\": \"Fecha de Compra\",\n      \"properties\": {\n        \"dtype\": \"object\",\n        \"num_unique_values\": 1018,\n        \"samples\": [\n          \"15/09/2022\",\n          \"03/06/2020\",\n          \"06/11/2021\"\n        ],\n        \"semantic_type\": \"\",\n        \"description\": \"\"\n      }\n    },\n    {\n      \"column\": \"Vendedor\",\n      \"properties\": {\n        \"dtype\": \"category\",\n        \"num_unique_values\": 14,\n        \"samples\": [\n          \"Juliana Costa\",\n          \"Mariana Herrera\",\n          \"Pedro Gomez\"\n        ],\n        \"semantic_type\": \"\",\n        \"description\": \"\"\n      }\n    },\n    {\n      \"column\": \"Lugar de Compra\",\n      \"properties\": {\n        \"dtype\": \"category\",\n        \"num_unique_values\": 19,\n        \"samples\": [\n          \"Bogot\\u00e1\",\n          \"Pereira\",\n          \"Neiva\"\n        ],\n        \"semantic_type\": \"\",\n        \"description\": \"\"\n      }\n    },\n    {\n      \"column\": \"Calificaci\\u00f3n\",\n      \"properties\": {\n        \"dtype\": \"number\",\n        \"std\": 1,\n        \"min\": 1,\n        \"max\": 5,\n        \"num_unique_values\": 5,\n        \"samples\": [\n          1,\n          2,\n          5\n        ],\n        \"semantic_type\": \"\",\n        \"description\": \"\"\n      }\n    },\n    {\n      \"column\": \"M\\u00e9todo de pago\",\n      \"properties\": {\n        \"dtype\": \"category\",\n        \"num_unique_values\": 4,\n        \"samples\": [\n          \"Nequi\",\n          \"Tarjeta de d\\u00e9bito\",\n          \"Tarjeta de cr\\u00e9dito\"\n        ],\n        \"semantic_type\": \"\",\n        \"description\": \"\"\n      }\n    },\n    {\n      \"column\": \"Cantidad de cuotas\",\n      \"properties\": {\n        \"dtype\": \"number\",\n        \"std\": 2,\n        \"min\": 1,\n        \"max\": 24,\n        \"num_unique_values\": 15,\n        \"samples\": [\n          7,\n          14,\n          8\n        ],\n        \"semantic_type\": \"\",\n        \"description\": \"\"\n      }\n    },\n    {\n      \"column\": \"lat\",\n      \"properties\": {\n        \"dtype\": \"number\",\n        \"std\": 2.2874452492678627,\n        \"min\": -4.21528,\n        \"max\": 11.54444,\n        \"num_unique_values\": 19,\n        \"samples\": [\n          4.60971,\n          4.81333,\n          2.9273\n        ],\n        \"semantic_type\": \"\",\n        \"description\": \"\"\n      }\n    },\n    {\n      \"column\": \"lon\",\n      \"properties\": {\n        \"dtype\": \"number\",\n        \"std\": 1.2178272727088486,\n        \"min\": -77.28111,\n        \"max\": -67.9239,\n        \"num_unique_values\": 19,\n        \"samples\": [\n          -74.08175,\n          -75.69611,\n          -75.28189\n        ],\n        \"semantic_type\": \"\",\n        \"description\": \"\"\n      }\n    }\n  ]\n}"
            }
          },
          "metadata": {},
          "execution_count": 1
        }
      ],
      "source": [
        "import pandas as pd\n",
        "\n",
        "url = \"https://raw.githubusercontent.com/alura-es-cursos/challenge1-data-science-latam/refs/heads/main/base-de-datos-challenge1-latam/tienda_1%20.csv\"\n",
        "url2 = \"https://raw.githubusercontent.com/alura-es-cursos/challenge1-data-science-latam/refs/heads/main/base-de-datos-challenge1-latam/tienda_2.csv\"\n",
        "url3 = \"https://raw.githubusercontent.com/alura-es-cursos/challenge1-data-science-latam/refs/heads/main/base-de-datos-challenge1-latam/tienda_3.csv\"\n",
        "url4 = \"https://raw.githubusercontent.com/alura-es-cursos/challenge1-data-science-latam/refs/heads/main/base-de-datos-challenge1-latam/tienda_4.csv\"\n",
        "\n",
        "tienda = pd.read_csv(url)\n",
        "tienda2 = pd.read_csv(url2)\n",
        "tienda3 = pd.read_csv(url3)\n",
        "tienda4 = pd.read_csv(url4)\n",
        "\n",
        "tienda.head()"
      ]
    },
    {
      "cell_type": "code",
      "source": [],
      "metadata": {
        "id": "M496jhu3K1KA"
      },
      "execution_count": null,
      "outputs": []
    },
    {
      "cell_type": "markdown",
      "source": [
        "#1. Análisis de facturación\n",
        "\n"
      ],
      "metadata": {
        "id": "X62IW3KFUIYm"
      }
    },
    {
      "cell_type": "code",
      "source": [
        "lista_tiendas = ['Tienda 1','Tienda 2','Tienda 3','Tienda 4']\n",
        "\n",
        "ventas_t1 = sum(tienda['Precio'])\n",
        "print(f'Las ventas de Tienda 1 son: ${ventas_t1:,}')\n",
        "ventas_t2 = sum(tienda2['Precio'])\n",
        "print(f'Las ventas de Tienda 2 son: ${ventas_t2:,}')\n",
        "ventas_t3 = sum(tienda3['Precio'])\n",
        "print(f'Las ventas de Tienda 3 son: ${ventas_t3:,}')\n",
        "ventas_t4 = sum(tienda4['Precio'])\n",
        "print(f'Las ventas de Tienda 4 son: ${ventas_t4:,}')\n",
        "\n",
        "lista_ventas = [ventas_t1, ventas_t2, ventas_t3, ventas_t4]\n",
        "\n",
        "lista_tuplas_v = []\n",
        "for i in range(len(lista_tiendas)):\n",
        "    lista_tuplas_v.append((lista_tiendas[i],lista_ventas[i]))\n",
        "\n",
        "diccionario_v = {lista_tiendas[i]:lista_ventas[i] for i in range (len(lista_tiendas))}"
      ],
      "metadata": {
        "id": "xykobSftV64I",
        "colab": {
          "base_uri": "https://localhost:8080/"
        },
        "outputId": "d60eedab-6b51-4675-ab75-105a80b43dcf"
      },
      "execution_count": 2,
      "outputs": [
        {
          "output_type": "stream",
          "name": "stdout",
          "text": [
            "Las ventas de Tienda 1 son: $1,150,880,400.0\n",
            "Las ventas de Tienda 2 son: $1,116,343,500.0\n",
            "Las ventas de Tienda 3 son: $1,098,019,600.0\n",
            "Las ventas de Tienda 4 son: $1,038,375,700.0\n"
          ]
        }
      ]
    },
    {
      "cell_type": "code",
      "source": [
        "df = pd.DataFrame(data=diccionario_v, index=['Ventas'])\n",
        "print(df)"
      ],
      "metadata": {
        "colab": {
          "base_uri": "https://localhost:8080/"
        },
        "id": "5TvYoSr-dbeH",
        "outputId": "b0f38f55-9bbf-4c9d-9aa3-a196380d0c54"
      },
      "execution_count": 3,
      "outputs": [
        {
          "output_type": "stream",
          "name": "stdout",
          "text": [
            "            Tienda 1      Tienda 2      Tienda 3      Tienda 4\n",
            "Ventas  1.150880e+09  1.116344e+09  1.098020e+09  1.038376e+09\n"
          ]
        }
      ]
    },
    {
      "cell_type": "code",
      "source": [
        "mayor_venta = max(lista_ventas)\n",
        "menor_venta = min(lista_ventas)\n",
        "mayor_ventaT = (list(diccionario_v.keys())[list(diccionario_v.values()).index(mayor_venta)])\n",
        "menor_ventaT = (list(diccionario_v.keys())[list(diccionario_v.values()).index(menor_venta)])\n",
        "print(f'La tienda que más vende es {mayor_ventaT} con ${mayor_venta:,}')\n",
        "print(f'La tienda que menos vende es {menor_ventaT} con ${menor_venta:,}')"
      ],
      "metadata": {
        "id": "KDyr8E71V3m-",
        "colab": {
          "base_uri": "https://localhost:8080/"
        },
        "outputId": "f126772b-4a57-4f85-8885-dd6dc61ec817"
      },
      "execution_count": 4,
      "outputs": [
        {
          "output_type": "stream",
          "name": "stdout",
          "text": [
            "La tienda que más vende es Tienda 1 con $1,150,880,400.0\n",
            "La tienda que menos vende es Tienda 4 con $1,038,375,700.0\n"
          ]
        }
      ]
    },
    {
      "cell_type": "code",
      "source": [
        "from matplotlib import pyplot as plt\n",
        "import numpy as np\n",
        "\n",
        "y = np.array([ventas_t1, ventas_t2, ventas_t3, ventas_t4])\n",
        "\n",
        "plt.pie(y, labels = lista_tiendas)\n",
        "plt.show()"
      ],
      "metadata": {
        "colab": {
          "base_uri": "https://localhost:8080/",
          "height": 406
        },
        "id": "2VQ_Um5ONa7b",
        "outputId": "0451a4b0-9a88-4c7b-f6cc-b7eab88c5211"
      },
      "execution_count": 5,
      "outputs": [
        {
          "output_type": "display_data",
          "data": {
            "text/plain": [
              "<Figure size 640x480 with 1 Axes>"
            ],
            "image/png": "[encoded data removed]"
          },
          "metadata": {}
        }
      ]
    },
    {
      "cell_type": "markdown",
      "source": [
        "# 2. Ventas por categoría"
      ],
      "metadata": {
        "id": "2V_vcAPzWZmR"
      }
    },
    {
      "cell_type": "code",
      "source": [
        "categorias_T1 = tienda['Categoría del Producto'].value_counts()\n",
        "categorias_T2 = tienda2['Categoría del Producto'].value_counts()\n",
        "categorias_T3 = tienda3['Categoría del Producto'].value_counts()\n",
        "categorias_T4 = tienda4['Categoría del Producto'].value_counts()\n",
        "\n",
        "catunica = list(set(tienda['Categoría del Producto']))\n",
        "\n",
        "print(f'Las categorías más populares de la Tienda 1 son:\\n', categorias_T1)\n",
        "print(f'Las categorías más populares de la Tienda 2 son:\\n', categorias_T2)\n",
        "print(f'Las categorías más populares de la Tienda 3 son:\\n', categorias_T3)\n",
        "print(f'Las categorías más populares de la Tienda 4 son:\\n', categorias_T4)"
      ],
      "metadata": {
        "id": "A34YupIuYhfF",
        "colab": {
          "base_uri": "https://localhost:8080/"
        },
        "outputId": "4f7776bf-7513-486a-e1d5-01b7deffd089"
      },
      "execution_count": 6,
      "outputs": [
        {
          "output_type": "stream",
          "name": "stdout",
          "text": [
            "Las categorías más populares de la Tienda 1 son:\n",
            " Categoría del Producto\n",
            "Muebles                    465\n",
            "Electrónicos               448\n",
            "Juguetes                   324\n",
            "Electrodomésticos          312\n",
            "Deportes y diversión       284\n",
            "Instrumentos musicales     182\n",
            "Libros                     173\n",
            "Artículos para el hogar    171\n",
            "Name: count, dtype: int64\n",
            "Las categorías más populares de la Tienda 2 son:\n",
            " Categoría del Producto\n",
            "Muebles                    442\n",
            "Electrónicos               422\n",
            "Juguetes                   313\n",
            "Electrodomésticos          305\n",
            "Deportes y diversión       275\n",
            "Instrumentos musicales     224\n",
            "Libros                     197\n",
            "Artículos para el hogar    181\n",
            "Name: count, dtype: int64\n",
            "Las categorías más populares de la Tienda 3 son:\n",
            " Categoría del Producto\n",
            "Muebles                    499\n",
            "Electrónicos               451\n",
            "Juguetes                   315\n",
            "Electrodomésticos          278\n",
            "Deportes y diversión       277\n",
            "Libros                     185\n",
            "Instrumentos musicales     177\n",
            "Artículos para el hogar    177\n",
            "Name: count, dtype: int64\n",
            "Las categorías más populares de la Tienda 4 son:\n",
            " Categoría del Producto\n",
            "Muebles                    480\n",
            "Electrónicos               451\n",
            "Juguetes                   338\n",
            "Deportes y diversión       277\n",
            "Electrodomésticos          254\n",
            "Artículos para el hogar    201\n",
            "Libros                     187\n",
            "Instrumentos musicales     170\n",
            "Name: count, dtype: int64\n"
          ]
        }
      ]
    },
    {
      "cell_type": "code",
      "source": [
        "# importing package\n",
        "import matplotlib.pyplot as plt\n",
        "import numpy as np\n",
        "import pandas as pd\n",
        "\n",
        "diccionario_categorias_Tiendas = {catunica[i]:[categorias_T1[i],categorias_T2[i],categorias_T3[i],categorias_T4[i]] for i in range (len(catunica))}\n",
        "\n",
        "# create data\n",
        "df = pd.DataFrame(data=diccionario_categorias_Tiendas, index=['Tienda1','Tienda2','Tienda3','Tienda4'])\n",
        "# view data\n",
        "print(df)\n",
        "\n",
        "# plot data in stack manner of bar type\n",
        "df.plot.bar(stacked=True, title='Unidades vendidas por Categoría en cada Tienda')\n",
        "plt.show()"
      ],
      "metadata": {
        "colab": {
          "base_uri": "https://localhost:8080/",
          "height": 740
        },
        "id": "MDWoKGpSZEdR",
        "outputId": "ce752708-3987-479b-b3f3-a15d9f707cfb"
      },
      "execution_count": 7,
      "outputs": [
        {
          "output_type": "stream",
          "name": "stdout",
          "text": [
            "         Juguetes  Electrodomésticos  Electrónicos  Artículos para el hogar  \\\n",
            "Tienda1       465                448           324                      312   \n",
            "Tienda2       442                422           313                      305   \n",
            "Tienda3       499                451           315                      278   \n",
            "Tienda4       480                451           338                      277   \n",
            "\n",
            "         Deportes y diversión  Muebles  Instrumentos musicales  Libros  \n",
            "Tienda1                   284      182                     173     171  \n",
            "Tienda2                   275      224                     197     181  \n",
            "Tienda3                   277      185                     177     177  \n",
            "Tienda4                   254      201                     187     170  \n"
          ]
        },
        {
          "output_type": "stream",
          "name": "stderr",
          "text": [
            "<ipython-input-7-8eaab2ea806c>:6: FutureWarning: Series.__getitem__ treating keys as positions is deprecated. In a future version, integer keys will always be treated as labels (consistent with DataFrame behavior). To access a value by position, use `ser.iloc[pos]`\n",
            "  diccionario_categorias_Tiendas = {catunica[i]:[categorias_T1[i],categorias_T2[i],categorias_T3[i],categorias_T4[i]] for i in range (len(catunica))}\n"
          ]
        },
        {
          "output_type": "display_data",
          "data": {
            "text/plain": [
              "<Figure size 640x480 with 1 Axes>"
            ],
            "image/png": "[encoded data removed]"
          },
          "metadata": {}
        }
      ]
    },
    {
      "cell_type": "markdown",
      "source": [
        "# 3. Calificación promedio de la tienda\n"
      ],
      "metadata": {
        "id": "Rq6tU_xSY3jk"
      }
    },
    {
      "cell_type": "code",
      "source": [
        "calificacion_T1 = tienda['Calificación'].mean()\n",
        "calificacion_T2 = tienda2['Calificación'].mean()\n",
        "calificacion_T3 = tienda3['Calificación'].mean()\n",
        "calificacion_T4 = tienda4['Calificación'].mean()\n",
        "\n",
        "lista_calificacion = [calificacion_T1, calificacion_T2, calificacion_T3, calificacion_T4]\n",
        "diccionario_c = {lista_tiendas[i]:lista_calificacion[i] for i in range (len(lista_tiendas))}\n",
        "\n",
        "print(f'La calificación promedio de la Tienda 1 es: {round(calificacion_T1,2)}')\n",
        "print(f'La calificación promedio de la Tienda 2 es: {round(calificacion_T2,2)}')\n",
        "print(f'La calificación promedio de la Tienda 3 es: {round(calificacion_T3,2)}')\n",
        "print(f'La calificación promedio de la Tienda 4 es: {round(calificacion_T4,2)}')"
      ],
      "metadata": {
        "id": "bh3jjjJwY5MU",
        "colab": {
          "base_uri": "https://localhost:8080/"
        },
        "outputId": "ad89f144-8d16-4b8a-ee91-3b0440c6e604"
      },
      "execution_count": 8,
      "outputs": [
        {
          "output_type": "stream",
          "name": "stdout",
          "text": [
            "La calificación promedio de la Tienda 1 es: 3.98\n",
            "La calificación promedio de la Tienda 2 es: 4.04\n",
            "La calificación promedio de la Tienda 3 es: 4.05\n",
            "La calificación promedio de la Tienda 4 es: 4.0\n"
          ]
        }
      ]
    },
    {
      "cell_type": "code",
      "source": [
        "mayor_calificacion = max(lista_calificacion)\n",
        "menor_calificacion = min(lista_calificacion)\n",
        "mayor_calificacionT = (list(diccionario_c.keys())[list(diccionario_c.values()).index(mayor_calificacion)])\n",
        "menor_calificacionT = (list(diccionario_c.keys())[list(diccionario_c.values()).index(menor_calificacion)])\n",
        "print(f'La tienda con mejor calificación es {mayor_calificacionT} con promedio {round(mayor_calificacion,2)}')\n",
        "print(f'La tienda con menor calificación ess {menor_calificacionT} con promedio {round(menor_calificacion,2)}')"
      ],
      "metadata": {
        "id": "I0KkjPoTY88F",
        "colab": {
          "base_uri": "https://localhost:8080/"
        },
        "outputId": "acaeb7ba-bbb0-43d6-fd05-250367fc1c57"
      },
      "execution_count": 9,
      "outputs": [
        {
          "output_type": "stream",
          "name": "stdout",
          "text": [
            "La tienda con mejor calificación es Tienda 3 con promedio 4.05\n",
            "La tienda con menor calificación ess Tienda 1 con promedio 3.98\n"
          ]
        }
      ]
    },
    {
      "cell_type": "code",
      "source": [
        "import matplotlib.pyplot as plt\n",
        "import numpy as np\n",
        "\n",
        "x = np.array(lista_tiendas)\n",
        "y = np.array(lista_calificacion)\n",
        "\n",
        "plt.barh(x, y)\n",
        "plt.xlim(min(y)-0.1, max(y))\n",
        "plt.show()"
      ],
      "metadata": {
        "colab": {
          "base_uri": "https://localhost:8080/",
          "height": 430
        },
        "id": "pz49t51sRtB4",
        "outputId": "8d14bf50-991c-4711-bf35-78e830856ac4"
      },
      "execution_count": 10,
      "outputs": [
        {
          "output_type": "display_data",
          "data": {
            "text/plain": [
              "<Figure size 640x480 with 1 Axes>"
            ],
            "image/png": "[encoded data removed]"
          },
          "metadata": {}
        }
      ]
    },
    {
      "cell_type": "markdown",
      "source": [
        "# 4. Productos más y menos vendidos"
      ],
      "metadata": {
        "id": "DmNp1KPBZCm-"
      }
    },
    {
      "cell_type": "code",
      "source": [
        "productos_T1 = tienda['Producto'].value_counts()\n",
        "productos_T2 = tienda2['Producto'].value_counts()\n",
        "productos_T3 = tienda3['Producto'].value_counts()\n",
        "productos_T4 = tienda4['Producto'].value_counts()\n",
        "\n",
        "print(f'Los productos más vendidos de la Tienda 1 son:\\n', productos_T1)\n",
        "print(f'Los productos más vendidos de la Tienda 2 son:\\n', productos_T2)\n",
        "print(f'Los productos más vendidos de la Tienda 3 son:\\n', productos_T3)\n",
        "print(f'Los productos más vendidos de la Tienda 4 son:\\n', productos_T4)"
      ],
      "metadata": {
        "id": "qoyjqijQZHfF",
        "colab": {
          "base_uri": "https://localhost:8080/"
        },
        "outputId": "b1e30fd7-0801-4edc-d984-4948cf3299f0"
      },
      "execution_count": 11,
      "outputs": [
        {
          "output_type": "stream",
          "name": "stdout",
          "text": [
            "Los productos más vendidos de la Tienda 1 son:\n",
            " Producto\n",
            "Microondas                     60\n",
            "TV LED UHD 4K                  60\n",
            "Armario                        60\n",
            "Secadora de ropa               58\n",
            "Mesa de noche                  56\n",
            "Bloques de construcción        56\n",
            "Balón de baloncesto            55\n",
            "Bicicleta                      54\n",
            "Vaso térmico                   54\n",
            "Refrigerador                   54\n",
            "Impresora                      54\n",
            "Batería                        53\n",
            "Cubertería                     52\n",
            "Carrito de control remoto      52\n",
            "Modelado predictivo            51\n",
            "Auriculares                    50\n",
            "Ajedrez de madera              49\n",
            "Iphone 15                      49\n",
            "Lavavajillas                   48\n",
            "Lavadora de ropa               47\n",
            "Guitarra eléctrica             47\n",
            "Guitarra acústica              46\n",
            "Sofá reclinable                46\n",
            "Silla de oficina               46\n",
            "Estufa                         45\n",
            "Cama box                       44\n",
            "Kit de bancas                  44\n",
            "Smart TV                       44\n",
            "Cama king                      44\n",
            "Cubo mágico 8x8                44\n",
            "Mesa de centro                 44\n",
            "Set de ollas                   43\n",
            "Smartwatch                     43\n",
            "Juego de mesa                  43\n",
            "Balón de voleibol              42\n",
            "Dashboards con Power BI        42\n",
            "Tablet ABXY                    42\n",
            "Sillón                         41\n",
            "Iniciando en programación      41\n",
            "Set de vasos                   41\n",
            "Asistente virtual              40\n",
            "Muñeca bebé                    40\n",
            "Mesa de comedor                40\n",
            "Dinosaurio Rex                 40\n",
            "Cuerda para saltar             40\n",
            "Mochila                        39\n",
            "Ciencia de datos con Python    39\n",
            "Pandereta                      36\n",
            "Olla de presión                35\n",
            "Auriculares con micrófono      33\n",
            "Celular ABXY                   33\n",
            "Name: count, dtype: int64\n",
            "Los productos más vendidos de la Tienda 2 son:\n",
            " Producto\n",
            "Iniciando en programación      65\n",
            "Microondas                     62\n",
            "Batería                        61\n",
            "Guitarra acústica              58\n",
            "Pandereta                      58\n",
            "Secadora de ropa               57\n",
            "Iphone 15                      55\n",
            "Bloques de construcción        54\n",
            "Armario                        54\n",
            "Set de ollas                   52\n",
            "Cuerda para saltar             50\n",
            "Lavadora de ropa               49\n",
            "Silla de oficina               49\n",
            "Refrigerador                   49\n",
            "Muñeca bebé                    48\n",
            "Carrito de control remoto      47\n",
            "Guitarra eléctrica             47\n",
            "Cama box                       47\n",
            "Vaso térmico                   47\n",
            "Modelado predictivo            46\n",
            "Balón de voleibol              46\n",
            "Set de vasos                   46\n",
            "Lavavajillas                   46\n",
            "Kit de bancas                  45\n",
            "Cama king                      45\n",
            "Bicicleta                      45\n",
            "Mochila                        45\n",
            "Cubo mágico 8x8                45\n",
            "Ajedrez de madera              45\n",
            "Mesa de centro                 45\n",
            "TV LED UHD 4K                  45\n",
            "Tablet ABXY                    44\n",
            "Smartwatch                     44\n",
            "Mesa de noche                  44\n",
            "Olla de presión                44\n",
            "Auriculares con micrófono      44\n",
            "Sofá reclinable                44\n",
            "Dashboards con Power BI        43\n",
            "Ciencia de datos con Python    43\n",
            "Balón de baloncesto            42\n",
            "Estufa                         42\n",
            "Dinosaurio Rex                 42\n",
            "Celular ABXY                   41\n",
            "Smart TV                       40\n",
            "Cubertería                     39\n",
            "Asistente virtual              38\n",
            "Auriculares                    37\n",
            "Sillón                         35\n",
            "Mesa de comedor                34\n",
            "Impresora                      34\n",
            "Juego de mesa                  32\n",
            "Name: count, dtype: int64\n",
            "Los productos más vendidos de la Tienda 3 son:\n",
            " Producto\n",
            "Kit de bancas                  57\n",
            "Mesa de comedor                56\n",
            "Cama king                      56\n",
            "Set de ollas                   55\n",
            "Mesa de noche                  55\n",
            "Smart TV                       54\n",
            "Estufa                         53\n",
            "Cuerda para saltar             53\n",
            "Modelado predictivo            53\n",
            "Carrito de control remoto      52\n",
            "Lavavajillas                   52\n",
            "Bicicleta                      52\n",
            "Juego de mesa                  52\n",
            "Pandereta                      51\n",
            "Impresora                      50\n",
            "Refrigerador                   50\n",
            "Balón de baloncesto            50\n",
            "Armario                        49\n",
            "Balón de voleibol              48\n",
            "Tablet ABXY                    48\n",
            "Sillón                         47\n",
            "Guitarra acústica              47\n",
            "Olla de presión                47\n",
            "Ajedrez de madera              47\n",
            "Ciencia de datos con Python    46\n",
            "Iphone 15                      46\n",
            "Dinosaurio Rex                 46\n",
            "Silla de oficina               46\n",
            "Smartwatch                     46\n",
            "Cama box                       46\n",
            "Iniciando en programación      46\n",
            "Secadora de ropa               45\n",
            "Sofá reclinable                45\n",
            "Celular ABXY                   44\n",
            "Cubo mágico 8x8                44\n",
            "Auriculares                    43\n",
            "TV LED UHD 4K                  42\n",
            "Mesa de centro                 42\n",
            "Lavadora de ropa               42\n",
            "Batería                        41\n",
            "Dashboards con Power BI        40\n",
            "Cubertería                     39\n",
            "Muñeca bebé                    39\n",
            "Auriculares con micrófono      39\n",
            "Asistente virtual              39\n",
            "Vaso térmico                   38\n",
            "Guitarra eléctrica             38\n",
            "Set de vasos                   36\n",
            "Mochila                        36\n",
            "Microondas                     36\n",
            "Bloques de construcción        35\n",
            "Name: count, dtype: int64\n",
            "Los productos más vendidos de la Tienda 4 son:\n",
            " Producto\n",
            "Cama box                       62\n",
            "Cubertería                     59\n",
            "Dashboards con Power BI        56\n",
            "Cama king                      56\n",
            "Carrito de control remoto      55\n",
            "Mesa de comedor                55\n",
            "Mesa de noche                  55\n",
            "Smart TV                       54\n",
            "Bloques de construcción        54\n",
            "Pandereta                      52\n",
            "Impresora                      50\n",
            "Modelado predictivo            50\n",
            "Asistente virtual              50\n",
            "Set de ollas                   50\n",
            "Balón de baloncesto            50\n",
            "Vaso térmico                   48\n",
            "Iphone 15                      48\n",
            "Muñeca bebé                    48\n",
            "Batería                        48\n",
            "Balón de voleibol              48\n",
            "Juego de mesa                  48\n",
            "Microondas                     48\n",
            "Estufa                         47\n",
            "Cubo mágico 8x8                47\n",
            "Sofá reclinable                47\n",
            "Dinosaurio Rex                 47\n",
            "Olla de presión                46\n",
            "Set de vasos                   46\n",
            "Tablet ABXY                    45\n",
            "Sillón                         45\n",
            "Bicicleta                      45\n",
            "Mesa de centro                 44\n",
            "Auriculares                    44\n",
            "Lavavajillas                   43\n",
            "Cuerda para saltar             43\n",
            "Iniciando en programación      43\n",
            "Mochila                        43\n",
            "Auriculares con micrófono      42\n",
            "Kit de bancas                  42\n",
            "TV LED UHD 4K                  40\n",
            "Secadora de ropa               40\n",
            "Silla de oficina               40\n",
            "Celular ABXY                   39\n",
            "Ajedrez de madera              39\n",
            "Smartwatch                     39\n",
            "Lavadora de ropa               38\n",
            "Refrigerador                   38\n",
            "Ciencia de datos con Python    38\n",
            "Guitarra acústica              37\n",
            "Armario                        34\n",
            "Guitarra eléctrica             33\n",
            "Name: count, dtype: int64\n"
          ]
        }
      ]
    },
    {
      "cell_type": "code",
      "source": [],
      "metadata": {
        "id": "0Sw3sd4IZIGW"
      },
      "execution_count": 11,
      "outputs": []
    },
    {
      "cell_type": "markdown",
      "source": [
        "# 5. Envío promedio por tienda"
      ],
      "metadata": {
        "id": "Fl0cGi3bZKqU"
      }
    },
    {
      "cell_type": "code",
      "source": [
        "costoenvio_T1 = tienda['Costo de envío'].mean()\n",
        "costoenvio_T2 = tienda2['Costo de envío'].mean()\n",
        "costoenvio_T3 = tienda3['Costo de envío'].mean()\n",
        "costoenvio_T4 = tienda4['Costo de envío'].mean()\n",
        "\n",
        "lista_costoenvio = [costoenvio_T1, costoenvio_T2, costoenvio_T3, costoenvio_T4]\n",
        "diccionario_ce = {lista_tiendas[i]:lista_costoenvio[i] for i in range (len(lista_tiendas))}\n",
        "\n",
        "print(f'El costo de envío promedio de la Tienda 1 es: ${round(costoenvio_T1,2)}')\n",
        "print(f'El costo de envío promedio de la Tienda 2 es: ${round(costoenvio_T2,2)}')\n",
        "print(f'El costo de envío promedio de la Tienda 3 es: ${round(costoenvio_T3,2)}')\n",
        "print(f'El costo de envío promedio de la Tienda 4 es: ${round(costoenvio_T4,2)}')"
      ],
      "metadata": {
        "id": "S2JeaCykZNy9",
        "colab": {
          "base_uri": "https://localhost:8080/"
        },
        "outputId": "9f90a577-15fb-4cc9-d3ff-e891d7a7d9ee"
      },
      "execution_count": 12,
      "outputs": [
        {
          "output_type": "stream",
          "name": "stdout",
          "text": [
            "El costo de envío promedio de la Tienda 1 es: $26018.61\n",
            "El costo de envío promedio de la Tienda 2 es: $25216.24\n",
            "El costo de envío promedio de la Tienda 3 es: $24805.68\n",
            "El costo de envío promedio de la Tienda 4 es: $23459.46\n"
          ]
        }
      ]
    },
    {
      "cell_type": "code",
      "source": [
        "mayor_costoenvio = max(lista_costoenvio)\n",
        "menor_costoenvio = min(lista_costoenvio)\n",
        "mayor_costoenvioT = (list(diccionario_ce.keys())[list(diccionario_ce.values()).index(mayor_costoenvio)])\n",
        "menor_costoenvioT = (list(diccionario_ce.keys())[list(diccionario_ce.values()).index(menor_costoenvio)])\n",
        "print(f'La tienda con mayor costo de envío es {mayor_costoenvioT} con promedio ${round(mayor_costoenvio,2)}')\n",
        "print(f'La tienda con menor costo de envío es {menor_costoenvioT} con promedio ${round(menor_costoenvio,2)}')"
      ],
      "metadata": {
        "id": "0tSdCie9ZQlt",
        "colab": {
          "base_uri": "https://localhost:8080/"
        },
        "outputId": "6c7baa2b-2822-4774-a4e9-f67a14b2a44b"
      },
      "execution_count": 13,
      "outputs": [
        {
          "output_type": "stream",
          "name": "stdout",
          "text": [
            "La tienda con mayor costo de envío es Tienda 1 con promedio $26018.61\n",
            "La tienda con menor costo de envío es Tienda 4 con promedio $23459.46\n"
          ]
        }
      ]
    },
    {
      "cell_type": "code",
      "source": [
        "x = lista_tiendas\n",
        "y = lista_costoenvio\n",
        "fig, ax = plt.subplots()\n",
        "ax.bar(x, y)\n",
        "plt.ylim(min(y)-500, max(y))\n",
        "plt.show()"
      ],
      "metadata": {
        "colab": {
          "base_uri": "https://localhost:8080/",
          "height": 433
        },
        "id": "u4juIt7uiauO",
        "outputId": "c633b724-c8cd-4ed3-cc0d-db5f66bdc65f"
      },
      "execution_count": 14,
      "outputs": [
        {
          "output_type": "display_data",
          "data": {
            "text/plain": [
              "<Figure size 640x480 with 1 Axes>"
            ],
            "image/png": "[encoded data removed]"
          },
          "metadata": {}
        }
      ]
    },
    {
      "cell_type": "code",
      "source": [],
      "metadata": {
        "id": "omVZUn-cUwlt"
      },
      "execution_count": 14,
      "outputs": []
    }
  ]
}